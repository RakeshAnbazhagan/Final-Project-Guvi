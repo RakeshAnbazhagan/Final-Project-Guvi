{
  "nbformat": 4,
  "nbformat_minor": 0,
  "metadata": {
    "colab": {
      "provenance": []
    },
    "kernelspec": {
      "name": "python3",
      "display_name": "Python 3"
    },
    "language_info": {
      "name": "python"
    }
  },
  "cells": [
    {
      "cell_type": "code",
      "execution_count": 137,
      "metadata": {
        "id": "HE3sqot7YE-p"
      },
      "outputs": [],
      "source": [
        "import pandas as pd\n",
        "import seaborn as sns\n",
        "import matplotlib.pyplot as plt\n",
        "import statsmodels.api as sm\n",
        "sns.set()"
      ]
    },
    {
      "cell_type": "code",
      "source": [
        "df=pd.ExcelFile('/content/cust_data.xlsx').parse(\"in\")"
      ],
      "metadata": {
        "id": "71CUkqgzYfB8"
      },
      "execution_count": 138,
      "outputs": []
    },
    {
      "cell_type": "code",
      "source": [
        "df.head()"
      ],
      "metadata": {
        "colab": {
          "base_uri": "https://localhost:8080/",
          "height": 317
        },
        "id": "ClWifv3mYwT5",
        "outputId": "459f2f73-a8c6-4fa4-8193-13085c46cd64"
      },
      "execution_count": 139,
      "outputs": [
        {
          "output_type": "execute_result",
          "data": {
            "text/plain": [
              "   Cust_ID Gender  Orders  Jordan  Gatorade  Samsung  Asus  Udis  \\\n",
              "0        1      M       7       0         0        0     0     0   \n",
              "1        2      F       0       0         1        0     0     0   \n",
              "2        3      M       7       0         1        0     0     0   \n",
              "3        4      F       0       0         0        0     0     0   \n",
              "4        5    NaN      10       0         0        0     0     0   \n",
              "\n",
              "   Mondelez International  Wrangler  ...  LG  Dior  Scabal  Tommy Hilfiger  \\\n",
              "0                       0         0  ...   0     0       0               0   \n",
              "1                       0         0  ...   0     1       0               0   \n",
              "2                       0         0  ...   0     0       0               0   \n",
              "3                       0         0  ...   0     0       0               0   \n",
              "4                       0         0  ...   0     0       2               0   \n",
              "\n",
              "   Hollister  Forever 21  Colavita  Microsoft  Jiffy mix  Kraft  \n",
              "0          0           0         0          0          0      0  \n",
              "1          0           0         0          0          0      0  \n",
              "2          0           0         0          1          0      0  \n",
              "3          0           0         0          0          0      0  \n",
              "4          0           0         0          0          1      1  \n",
              "\n",
              "[5 rows x 38 columns]"
            ],
            "text/html": [
              "\n",
              "  <div id=\"df-4b51d3b1-f75b-4521-a26a-cf933c148f11\">\n",
              "    <div class=\"colab-df-container\">\n",
              "      <div>\n",
              "<style scoped>\n",
              "    .dataframe tbody tr th:only-of-type {\n",
              "        vertical-align: middle;\n",
              "    }\n",
              "\n",
              "    .dataframe tbody tr th {\n",
              "        vertical-align: top;\n",
              "    }\n",
              "\n",
              "    .dataframe thead th {\n",
              "        text-align: right;\n",
              "    }\n",
              "</style>\n",
              "<table border=\"1\" class=\"dataframe\">\n",
              "  <thead>\n",
              "    <tr style=\"text-align: right;\">\n",
              "      <th></th>\n",
              "      <th>Cust_ID</th>\n",
              "      <th>Gender</th>\n",
              "      <th>Orders</th>\n",
              "      <th>Jordan</th>\n",
              "      <th>Gatorade</th>\n",
              "      <th>Samsung</th>\n",
              "      <th>Asus</th>\n",
              "      <th>Udis</th>\n",
              "      <th>Mondelez International</th>\n",
              "      <th>Wrangler</th>\n",
              "      <th>...</th>\n",
              "      <th>LG</th>\n",
              "      <th>Dior</th>\n",
              "      <th>Scabal</th>\n",
              "      <th>Tommy Hilfiger</th>\n",
              "      <th>Hollister</th>\n",
              "      <th>Forever 21</th>\n",
              "      <th>Colavita</th>\n",
              "      <th>Microsoft</th>\n",
              "      <th>Jiffy mix</th>\n",
              "      <th>Kraft</th>\n",
              "    </tr>\n",
              "  </thead>\n",
              "  <tbody>\n",
              "    <tr>\n",
              "      <th>0</th>\n",
              "      <td>1</td>\n",
              "      <td>M</td>\n",
              "      <td>7</td>\n",
              "      <td>0</td>\n",
              "      <td>0</td>\n",
              "      <td>0</td>\n",
              "      <td>0</td>\n",
              "      <td>0</td>\n",
              "      <td>0</td>\n",
              "      <td>0</td>\n",
              "      <td>...</td>\n",
              "      <td>0</td>\n",
              "      <td>0</td>\n",
              "      <td>0</td>\n",
              "      <td>0</td>\n",
              "      <td>0</td>\n",
              "      <td>0</td>\n",
              "      <td>0</td>\n",
              "      <td>0</td>\n",
              "      <td>0</td>\n",
              "      <td>0</td>\n",
              "    </tr>\n",
              "    <tr>\n",
              "      <th>1</th>\n",
              "      <td>2</td>\n",
              "      <td>F</td>\n",
              "      <td>0</td>\n",
              "      <td>0</td>\n",
              "      <td>1</td>\n",
              "      <td>0</td>\n",
              "      <td>0</td>\n",
              "      <td>0</td>\n",
              "      <td>0</td>\n",
              "      <td>0</td>\n",
              "      <td>...</td>\n",
              "      <td>0</td>\n",
              "      <td>1</td>\n",
              "      <td>0</td>\n",
              "      <td>0</td>\n",
              "      <td>0</td>\n",
              "      <td>0</td>\n",
              "      <td>0</td>\n",
              "      <td>0</td>\n",
              "      <td>0</td>\n",
              "      <td>0</td>\n",
              "    </tr>\n",
              "    <tr>\n",
              "      <th>2</th>\n",
              "      <td>3</td>\n",
              "      <td>M</td>\n",
              "      <td>7</td>\n",
              "      <td>0</td>\n",
              "      <td>1</td>\n",
              "      <td>0</td>\n",
              "      <td>0</td>\n",
              "      <td>0</td>\n",
              "      <td>0</td>\n",
              "      <td>0</td>\n",
              "      <td>...</td>\n",
              "      <td>0</td>\n",
              "      <td>0</td>\n",
              "      <td>0</td>\n",
              "      <td>0</td>\n",
              "      <td>0</td>\n",
              "      <td>0</td>\n",
              "      <td>0</td>\n",
              "      <td>1</td>\n",
              "      <td>0</td>\n",
              "      <td>0</td>\n",
              "    </tr>\n",
              "    <tr>\n",
              "      <th>3</th>\n",
              "      <td>4</td>\n",
              "      <td>F</td>\n",
              "      <td>0</td>\n",
              "      <td>0</td>\n",
              "      <td>0</td>\n",
              "      <td>0</td>\n",
              "      <td>0</td>\n",
              "      <td>0</td>\n",
              "      <td>0</td>\n",
              "      <td>0</td>\n",
              "      <td>...</td>\n",
              "      <td>0</td>\n",
              "      <td>0</td>\n",
              "      <td>0</td>\n",
              "      <td>0</td>\n",
              "      <td>0</td>\n",
              "      <td>0</td>\n",
              "      <td>0</td>\n",
              "      <td>0</td>\n",
              "      <td>0</td>\n",
              "      <td>0</td>\n",
              "    </tr>\n",
              "    <tr>\n",
              "      <th>4</th>\n",
              "      <td>5</td>\n",
              "      <td>NaN</td>\n",
              "      <td>10</td>\n",
              "      <td>0</td>\n",
              "      <td>0</td>\n",
              "      <td>0</td>\n",
              "      <td>0</td>\n",
              "      <td>0</td>\n",
              "      <td>0</td>\n",
              "      <td>0</td>\n",
              "      <td>...</td>\n",
              "      <td>0</td>\n",
              "      <td>0</td>\n",
              "      <td>2</td>\n",
              "      <td>0</td>\n",
              "      <td>0</td>\n",
              "      <td>0</td>\n",
              "      <td>0</td>\n",
              "      <td>0</td>\n",
              "      <td>1</td>\n",
              "      <td>1</td>\n",
              "    </tr>\n",
              "  </tbody>\n",
              "</table>\n",
              "<p>5 rows × 38 columns</p>\n",
              "</div>\n",
              "      <button class=\"colab-df-convert\" onclick=\"convertToInteractive('df-4b51d3b1-f75b-4521-a26a-cf933c148f11')\"\n",
              "              title=\"Convert this dataframe to an interactive table.\"\n",
              "              style=\"display:none;\">\n",
              "        \n",
              "  <svg xmlns=\"http://www.w3.org/2000/svg\" height=\"24px\"viewBox=\"0 0 24 24\"\n",
              "       width=\"24px\">\n",
              "    <path d=\"M0 0h24v24H0V0z\" fill=\"none\"/>\n",
              "    <path d=\"M18.56 5.44l.94 2.06.94-2.06 2.06-.94-2.06-.94-.94-2.06-.94 2.06-2.06.94zm-11 1L8.5 8.5l.94-2.06 2.06-.94-2.06-.94L8.5 2.5l-.94 2.06-2.06.94zm10 10l.94 2.06.94-2.06 2.06-.94-2.06-.94-.94-2.06-.94 2.06-2.06.94z\"/><path d=\"M17.41 7.96l-1.37-1.37c-.4-.4-.92-.59-1.43-.59-.52 0-1.04.2-1.43.59L10.3 9.45l-7.72 7.72c-.78.78-.78 2.05 0 2.83L4 21.41c.39.39.9.59 1.41.59.51 0 1.02-.2 1.41-.59l7.78-7.78 2.81-2.81c.8-.78.8-2.07 0-2.86zM5.41 20L4 18.59l7.72-7.72 1.47 1.35L5.41 20z\"/>\n",
              "  </svg>\n",
              "      </button>\n",
              "      \n",
              "  <style>\n",
              "    .colab-df-container {\n",
              "      display:flex;\n",
              "      flex-wrap:wrap;\n",
              "      gap: 12px;\n",
              "    }\n",
              "\n",
              "    .colab-df-convert {\n",
              "      background-color: #E8F0FE;\n",
              "      border: none;\n",
              "      border-radius: 50%;\n",
              "      cursor: pointer;\n",
              "      display: none;\n",
              "      fill: #1967D2;\n",
              "      height: 32px;\n",
              "      padding: 0 0 0 0;\n",
              "      width: 32px;\n",
              "    }\n",
              "\n",
              "    .colab-df-convert:hover {\n",
              "      background-color: #E2EBFA;\n",
              "      box-shadow: 0px 1px 2px rgba(60, 64, 67, 0.3), 0px 1px 3px 1px rgba(60, 64, 67, 0.15);\n",
              "      fill: #174EA6;\n",
              "    }\n",
              "\n",
              "    [theme=dark] .colab-df-convert {\n",
              "      background-color: #3B4455;\n",
              "      fill: #D2E3FC;\n",
              "    }\n",
              "\n",
              "    [theme=dark] .colab-df-convert:hover {\n",
              "      background-color: #434B5C;\n",
              "      box-shadow: 0px 1px 3px 1px rgba(0, 0, 0, 0.15);\n",
              "      filter: drop-shadow(0px 1px 2px rgba(0, 0, 0, 0.3));\n",
              "      fill: #FFFFFF;\n",
              "    }\n",
              "  </style>\n",
              "\n",
              "      <script>\n",
              "        const buttonEl =\n",
              "          document.querySelector('#df-4b51d3b1-f75b-4521-a26a-cf933c148f11 button.colab-df-convert');\n",
              "        buttonEl.style.display =\n",
              "          google.colab.kernel.accessAllowed ? 'block' : 'none';\n",
              "\n",
              "        async function convertToInteractive(key) {\n",
              "          const element = document.querySelector('#df-4b51d3b1-f75b-4521-a26a-cf933c148f11');\n",
              "          const dataTable =\n",
              "            await google.colab.kernel.invokeFunction('convertToInteractive',\n",
              "                                                     [key], {});\n",
              "          if (!dataTable) return;\n",
              "\n",
              "          const docLinkHtml = 'Like what you see? Visit the ' +\n",
              "            '<a target=\"_blank\" href=https://colab.research.google.com/notebooks/data_table.ipynb>data table notebook</a>'\n",
              "            + ' to learn more about interactive tables.';\n",
              "          element.innerHTML = '';\n",
              "          dataTable['output_type'] = 'display_data';\n",
              "          await google.colab.output.renderOutput(dataTable, element);\n",
              "          const docLink = document.createElement('div');\n",
              "          docLink.innerHTML = docLinkHtml;\n",
              "          element.appendChild(docLink);\n",
              "        }\n",
              "      </script>\n",
              "    </div>\n",
              "  </div>\n",
              "  "
            ]
          },
          "metadata": {},
          "execution_count": 139
        }
      ]
    },
    {
      "cell_type": "code",
      "source": [
        "df.shape"
      ],
      "metadata": {
        "colab": {
          "base_uri": "https://localhost:8080/"
        },
        "id": "qLbdnCZgajSR",
        "outputId": "ba0b9904-92c3-4916-e76c-352b0135ae19"
      },
      "execution_count": 140,
      "outputs": [
        {
          "output_type": "execute_result",
          "data": {
            "text/plain": [
              "(30000, 38)"
            ]
          },
          "metadata": {},
          "execution_count": 140
        }
      ]
    },
    {
      "cell_type": "code",
      "source": [
        "df.isnull().sum()"
      ],
      "metadata": {
        "colab": {
          "base_uri": "https://localhost:8080/"
        },
        "id": "3RWaHpVZaYD1",
        "outputId": "27e28476-ab1a-4023-afb5-05dcd104fef2"
      },
      "execution_count": 141,
      "outputs": [
        {
          "output_type": "execute_result",
          "data": {
            "text/plain": [
              "Cust_ID                      0\n",
              "Gender                    2724\n",
              "Orders                       0\n",
              "Jordan                       0\n",
              "Gatorade                     0\n",
              "Samsung                      0\n",
              "Asus                         0\n",
              "Udis                         0\n",
              "Mondelez International       0\n",
              "Wrangler                     0\n",
              "Vans                         0\n",
              "Fila                         0\n",
              "Brooks                       0\n",
              "H&M                          0\n",
              "Dairy Queen                  0\n",
              "Fendi                        0\n",
              "Hewlett Packard              0\n",
              "Pladis                       0\n",
              "Asics                        0\n",
              "Siemens                      0\n",
              "JM_Smucker                   0\n",
              "Pop Chips                    0\n",
              "Juniper                      0\n",
              "Huawei                       0\n",
              "Compaq                       0\n",
              "IBM                          0\n",
              "Burberry                     0\n",
              "Mi                           0\n",
              "LG                           0\n",
              "Dior                         0\n",
              "Scabal                       0\n",
              "Tommy Hilfiger               0\n",
              "Hollister                    0\n",
              "Forever 21                   0\n",
              "Colavita                     0\n",
              "Microsoft                    0\n",
              "Jiffy mix                    0\n",
              "Kraft                        0\n",
              "dtype: int64"
            ]
          },
          "metadata": {},
          "execution_count": 141
        }
      ]
    },
    {
      "cell_type": "code",
      "source": [
        "df['Gender'] = df['Gender'].fillna('Others')"
      ],
      "metadata": {
        "id": "IjBJKBtT8EIM"
      },
      "execution_count": 142,
      "outputs": []
    },
    {
      "cell_type": "code",
      "source": [
        "df.isnull().sum().sum()"
      ],
      "metadata": {
        "colab": {
          "base_uri": "https://localhost:8080/"
        },
        "id": "DB0v1eXK_dD0",
        "outputId": "1b09bc4b-dfa6-4edc-d8d0-5a042a174e17"
      },
      "execution_count": 143,
      "outputs": [
        {
          "output_type": "execute_result",
          "data": {
            "text/plain": [
              "0"
            ]
          },
          "metadata": {},
          "execution_count": 143
        }
      ]
    },
    {
      "cell_type": "code",
      "source": [
        "#distribution of Orders\n",
        "sns.countplot(data=df,x='Orders')\n",
        "plt.title('Distribution of Order')"
      ],
      "metadata": {
        "colab": {
          "base_uri": "https://localhost:8080/",
          "height": 318
        },
        "id": "yV_Ks8iLInyS",
        "outputId": "16477f1b-79a0-4258-a044-e4d3c5d14798"
      },
      "execution_count": 144,
      "outputs": [
        {
          "output_type": "execute_result",
          "data": {
            "text/plain": [
              "Text(0.5, 1.0, 'Distribution of Order')"
            ]
          },
          "metadata": {},
          "execution_count": 144
        },
        {
          "output_type": "display_data",
          "data": {
            "text/plain": [
              "<Figure size 432x288 with 1 Axes>"
            ],
            "image/png": "[encoded data removed]"
          },
          "metadata": {}
        }
      ]
    },
    {
      "cell_type": "code",
      "source": [
        "#Gender Distribution\n",
        "sns.countplot(data=df,x='Gender')\n",
        "plt.title('Gender Distribution')"
      ],
      "metadata": {
        "colab": {
          "base_uri": "https://localhost:8080/",
          "height": 318
        },
        "id": "47oUqiV3J6xK",
        "outputId": "40f7cfac-9281-44fd-dabe-62926c84c9a3"
      },
      "execution_count": 145,
      "outputs": [
        {
          "output_type": "execute_result",
          "data": {
            "text/plain": [
              "Text(0.5, 1.0, 'Gender Distribution')"
            ]
          },
          "metadata": {},
          "execution_count": 145
        },
        {
          "output_type": "display_data",
          "data": {
            "text/plain": [
              "<Figure size 432x288 with 1 Axes>"
            ],
            "image/png": "[encoded data removed]"
          },
          "metadata": {}
        }
      ]
    },
    {
      "cell_type": "code",
      "source": [
        "#encoding Male and Female\n",
        "df['Gender']=df['Gender'].map({'M':1,'F':2,'Others':3})"
      ],
      "metadata": {
        "id": "t5HGPsekKQRU"
      },
      "execution_count": 146,
      "outputs": []
    },
    {
      "cell_type": "code",
      "source": [
        "#dropping Cust_ID\n",
        "df=df.drop('Cust_ID',axis=1)"
      ],
      "metadata": {
        "id": "84vLC6tXLvPY"
      },
      "execution_count": 147,
      "outputs": []
    },
    {
      "cell_type": "code",
      "source": [
        "x=df.columns\n",
        "data=[]\n",
        "for i in x:\n",
        "  data.append({i:df[i].sum()})"
      ],
      "metadata": {
        "id": "j_8-A_yqLvL7"
      },
      "execution_count": 148,
      "outputs": []
    },
    {
      "cell_type": "code",
      "source": [
        "df1={'Jordan': 8023,\n",
        " 'Gatorade': 7570,\n",
        " 'Samsung': 6688,\n",
        " 'Asus': 4840,\n",
        " 'Udis': 4306,\n",
        " 'Mondelez International': 4193,\n",
        " 'Wrangler': 3208,\n",
        " 'Vans': 3343,\n",
        " 'Fila': 2828,\n",
        " 'Brooks': 4204,\n",
        " 'H&M': 9846,\n",
        " 'Dairy Queen': 6280,\n",
        " 'Fendi': 4244,\n",
        " 'Hewlett Packard': 4833,\n",
        " 'Pladis': 3183,\n",
        " 'Asics': 9007,\n",
        " 'Siemens': 1442,\n",
        " 'J.M. Smucker': 22644,\n",
        " 'Pop Chips': 7437,\n",
        " 'Juniper': 14125,\n",
        " 'Huawei': 7740,\n",
        " 'Compaq': 3563,\n",
        " 'IBM': 959,\n",
        " 'Burberry': 12841,\n",
        " 'Mi': 3640,\n",
        " 'LG': 3076,\n",
        " 'Dior': 8134,\n",
        " 'Scabal': 11102,\n",
        " 'Tommy Hilfiger': 4769,\n",
        " 'Hollister': 2330,\n",
        " 'Forever 21': 1720,\n",
        " 'Colavita': 5766,\n",
        " 'Microsoft': 3491,\n",
        " 'Jiffy mix': 2641,\n",
        " 'Kraft': 2127}"
      ],
      "metadata": {
        "id": "mY7luGwkLvGu"
      },
      "execution_count": 149,
      "outputs": []
    },
    {
      "cell_type": "code",
      "source": [
        "brands=pd.DataFrame(df1.items(),columns=['Brands','Orders'])"
      ],
      "metadata": {
        "id": "LgTemhC2LvD6"
      },
      "execution_count": 150,
      "outputs": []
    },
    {
      "cell_type": "code",
      "source": [
        "#Top 5 Orderd Brands\n",
        "x=brands.sort_values(by=['Orders'],ascending=False)\n",
        "top=x[:5]\n",
        "plt.bar(top['Brands'],top['Orders'])\n",
        "plt.xlabel('Brands')\n",
        "plt.ylabel('Orders')\n",
        "plt.show()"
      ],
      "metadata": {
        "colab": {
          "base_uri": "https://localhost:8080/",
          "height": 285
        },
        "id": "7vaFFTfldVSN",
        "outputId": "72cc63f5-e2bc-4e5d-d4e5-cf6d45ddc270"
      },
      "execution_count": 151,
      "outputs": [
        {
          "output_type": "display_data",
          "data": {
            "text/plain": [
              "<Figure size 432x288 with 1 Axes>"
            ],
            "image/png": "[encoded data removed]"
          },
          "metadata": {}
        }
      ]
    },
    {
      "cell_type": "code",
      "source": [
        "#Least 5 Orders\n",
        "y=brands.sort_values(by=['Orders'])\n",
        "low=y[:5]\n",
        "plt.bar(low['Brands'],low['Orders'])\n",
        "plt.xlabel('Brands')\n",
        "plt.ylabel('Orders')\n",
        "plt.show()"
      ],
      "metadata": {
        "colab": {
          "base_uri": "https://localhost:8080/",
          "height": 285
        },
        "id": "tnzTR6Tzi10O",
        "outputId": "0c19a1ec-1d4b-4648-b09c-5a1acaa59769"
      },
      "execution_count": 152,
      "outputs": [
        {
          "output_type": "display_data",
          "data": {
            "text/plain": [
              "<Figure size 432x288 with 1 Axes>"
            ],
            "image/png": "[encoded data removed]"
          },
          "metadata": {}
        }
      ]
    },
    {
      "cell_type": "markdown",
      "source": [
        "KMeans(Cluster Analysis)"
      ],
      "metadata": {
        "id": "By9DRlK9SEBL"
      }
    },
    {
      "cell_type": "code",
      "source": [
        "from sklearn.cluster import KMeans"
      ],
      "metadata": {
        "id": "vXaIxJbfSXkL"
      },
      "execution_count": 153,
      "outputs": []
    },
    {
      "cell_type": "code",
      "source": [
        "X=df"
      ],
      "metadata": {
        "id": "77ILzU9JNu27"
      },
      "execution_count": 154,
      "outputs": []
    },
    {
      "cell_type": "code",
      "source": [
        "X['Gender'].isnull().sum()"
      ],
      "metadata": {
        "colab": {
          "base_uri": "https://localhost:8080/"
        },
        "id": "2J0K6fR7PL5c",
        "outputId": "eb610c2b-6b31-4ff0-9630-7d5e67673019"
      },
      "execution_count": 155,
      "outputs": [
        {
          "output_type": "execute_result",
          "data": {
            "text/plain": [
              "0"
            ]
          },
          "metadata": {},
          "execution_count": 155
        }
      ]
    },
    {
      "cell_type": "code",
      "source": [
        "K=range(1,11)\n",
        "wcss=[]\n",
        "for k in K:\n",
        "  kmeans=KMeans(n_clusters=k,init='k-means++',random_state=0)\n",
        "  kmeans=kmeans.fit(X)\n",
        "  wcss_iter=kmeans.inertia_\n",
        "  wcss.append(wcss_iter)"
      ],
      "metadata": {
        "id": "3GC8qUTpSCte"
      },
      "execution_count": 156,
      "outputs": []
    },
    {
      "cell_type": "markdown",
      "source": [
        "Elbow Method"
      ],
      "metadata": {
        "id": "lPibEBctU7A7"
      }
    },
    {
      "cell_type": "code",
      "source": [
        "clusters=range(1,11)\n",
        "plt.figure(dpi=100)\n",
        "plt.plot(clusters,wcss)\n",
        "plt.title('Elbow Method')"
      ],
      "metadata": {
        "colab": {
          "base_uri": "https://localhost:8080/",
          "height": 406
        },
        "id": "1qBxP3TLRuHK",
        "outputId": "07d0927a-9d5b-49c6-81a9-608b5dc9151d"
      },
      "execution_count": 157,
      "outputs": [
        {
          "output_type": "execute_result",
          "data": {
            "text/plain": [
              "Text(0.5, 1.0, 'Elbow Method')"
            ]
          },
          "metadata": {},
          "execution_count": 157
        },
        {
          "output_type": "display_data",
          "data": {
            "text/plain": [
              "<Figure size 600x400 with 1 Axes>"
            ],
            "image/png": "[encoded data removed]"
          },
          "metadata": {}
        }
      ]
    },
    {
      "cell_type": "markdown",
      "source": [
        "The Last abrupt has happend in the point 4 from then it seems to be normal,from this figure we have taken our K-value is 4"
      ],
      "metadata": {
        "id": "xu5f6-FDWG0m"
      }
    },
    {
      "cell_type": "markdown",
      "source": [
        "Siloutte Score with respect to clusters"
      ],
      "metadata": {
        "id": "kUVma9HBVCDS"
      }
    },
    {
      "cell_type": "code",
      "source": [
        "from sklearn.metrics import silhouette_score,silhouette_samples\n",
        "import matplotlib.cm as cm\n",
        "import numpy as np"
      ],
      "metadata": {
        "id": "v1kSW167VBXv"
      },
      "execution_count": 158,
      "outputs": []
    },
    {
      "cell_type": "code",
      "source": [
        "kmeans_model = KMeans(n_clusters=2, random_state=1).fit(X)\n",
        "labels = kmeans_model.labels_\n",
        "score=silhouette_score(X, labels, metric='euclidean')\n",
        "print('Silhoutte score:',(round(score,2)))"
      ],
      "metadata": {
        "id": "pU41iSj5RuA8",
        "colab": {
          "base_uri": "https://localhost:8080/"
        },
        "outputId": "880fd665-2d21-4aef-b3ce-1df86303238a"
      },
      "execution_count": 159,
      "outputs": [
        {
          "output_type": "stream",
          "name": "stdout",
          "text": [
            "Silhoutte score: 0.33\n"
          ]
        }
      ]
    },
    {
      "cell_type": "code",
      "source": [
        "kmeans_model = KMeans(n_clusters=3, random_state=1).fit(X)\n",
        "labels = kmeans_model.labels_\n",
        "score1=silhouette_score(X, labels, metric='euclidean')\n",
        "print('Silhoutte score:',(round(score1,4)))"
      ],
      "metadata": {
        "id": "qcHopn91Rt-b",
        "colab": {
          "base_uri": "https://localhost:8080/"
        },
        "outputId": "4828edb4-5061-47d9-bb4c-f22ea9b731ff"
      },
      "execution_count": 182,
      "outputs": [
        {
          "output_type": "stream",
          "name": "stdout",
          "text": [
            "Silhoutte score: 0.2463\n"
          ]
        }
      ]
    },
    {
      "cell_type": "code",
      "source": [
        "kmeans_model = KMeans(n_clusters=4, random_state=1).fit(X)\n",
        "labels = kmeans_model.labels_\n",
        "score2=silhouette_score(X, labels, metric='euclidean')\n",
        "print('Silhoutte score:',(round(score2,4)))"
      ],
      "metadata": {
        "id": "curbcGlzRt74",
        "colab": {
          "base_uri": "https://localhost:8080/"
        },
        "outputId": "e3fc09cb-4c5e-42b3-aa6f-ca7494492f77"
      },
      "execution_count": 183,
      "outputs": [
        {
          "output_type": "stream",
          "name": "stdout",
          "text": [
            "Silhoutte score: 0.2494\n"
          ]
        }
      ]
    },
    {
      "cell_type": "code",
      "source": [
        "kmeans_model = KMeans(n_clusters=5, random_state=1).fit(X)\n",
        "labels = kmeans_model.labels_\n",
        "score3=silhouette_score(X, labels, metric='euclidean')\n",
        "print('Silhoutte score:',(round(score3,2)))"
      ],
      "metadata": {
        "id": "CTfk8JzkRt5X",
        "colab": {
          "base_uri": "https://localhost:8080/"
        },
        "outputId": "b7279723-9997-4577-a040-0d8788f69080"
      },
      "execution_count": 180,
      "outputs": [
        {
          "output_type": "stream",
          "name": "stdout",
          "text": [
            "Silhoutte score: 0.23\n"
          ]
        }
      ]
    },
    {
      "cell_type": "code",
      "source": [
        "kmeans_model = KMeans(n_clusters=6, random_state=1).fit(X)\n",
        "labels = kmeans_model.labels_\n",
        "score4=silhouette_score(X, labels, metric='euclidean')\n",
        "print('Silhoutte score:',(round(score4,2)))"
      ],
      "metadata": {
        "id": "YNSeeBLcRt24",
        "colab": {
          "base_uri": "https://localhost:8080/"
        },
        "outputId": "dc5cdd2e-fe0d-4e72-e0fc-f480af6c87a5"
      },
      "execution_count": 181,
      "outputs": [
        {
          "output_type": "stream",
          "name": "stdout",
          "text": [
            "Silhoutte score: 0.22\n"
          ]
        }
      ]
    },
    {
      "cell_type": "markdown",
      "source": [
        "The silhouette analysis is used to choose an optimal value for n_clusters. The silhouette score shows that the n_clusters value of 3, 5 and 6 are less compared to the given data due to the silhouette scores. Silhouette score is more ambivalent in deciding between 2 and 4. In the Elbow method the abrupt change has also happend after 2, with this in consideration taking the second highest silhouette score after 2 is found to be 4. With this analysis we are taking n_Clusters=4"
      ],
      "metadata": {
        "id": "pEsT4g3FUH3q"
      }
    },
    {
      "cell_type": "code",
      "source": [
        "km = KMeans(n_clusters=4)\n",
        "km.fit(X) "
      ],
      "metadata": {
        "id": "z8c8fC_sRt0I",
        "colab": {
          "base_uri": "https://localhost:8080/"
        },
        "outputId": "4ccbc2b6-4600-4fff-a6e1-75df70530279"
      },
      "execution_count": 184,
      "outputs": [
        {
          "output_type": "execute_result",
          "data": {
            "text/plain": [
              "KMeans(n_clusters=4)"
            ]
          },
          "metadata": {},
          "execution_count": 184
        }
      ]
    },
    {
      "cell_type": "code",
      "source": [
        "data_output = df.copy(deep = True)"
      ],
      "metadata": {
        "id": "Ta1DCJDrRttt"
      },
      "execution_count": 185,
      "outputs": []
    },
    {
      "cell_type": "code",
      "source": [
        "data_output['cluster']=km.labels_"
      ],
      "metadata": {
        "id": "gQ_mMQHiRtqQ"
      },
      "execution_count": 186,
      "outputs": []
    },
    {
      "cell_type": "code",
      "source": [
        "data_output"
      ],
      "metadata": {
        "colab": {
          "base_uri": "https://localhost:8080/",
          "height": 505
        },
        "id": "l-XAo2iGTXgY",
        "outputId": "52ff85ff-b278-4239-9450-657851e18d71"
      },
      "execution_count": 187,
      "outputs": [
        {
          "output_type": "execute_result",
          "data": {
            "text/plain": [
              "       Gender  Orders  Jordan  Gatorade  Samsung  Asus  Udis  \\\n",
              "0           1       7       0         0        0     0     0   \n",
              "1           2       0       0         1        0     0     0   \n",
              "2           1       7       0         1        0     0     0   \n",
              "3           2       0       0         0        0     0     0   \n",
              "4           3      10       0         0        0     0     0   \n",
              "...       ...     ...     ...       ...      ...   ...   ...   \n",
              "29995       1       0       0         0        0     0     0   \n",
              "29996       1       1       0         1        0     0     0   \n",
              "29997       1       0       0         1        0     0     0   \n",
              "29998       1       0       0         0        0     0     0   \n",
              "29999       2       3       2         0        0     1     0   \n",
              "\n",
              "       Mondelez International  Wrangler  Vans  ...  Dior  Scabal  \\\n",
              "0                           0         0     2  ...     0       0   \n",
              "1                           0         0     0  ...     1       0   \n",
              "2                           0         0     0  ...     0       0   \n",
              "3                           0         0     0  ...     0       0   \n",
              "4                           0         0     0  ...     0       2   \n",
              "...                       ...       ...   ...  ...   ...     ...   \n",
              "29995                       0         0     0  ...     0       0   \n",
              "29996                       0         0     0  ...     0       0   \n",
              "29997                       0         0     1  ...     0       0   \n",
              "29998                       0         0     0  ...     0       0   \n",
              "29999                       0         0     0  ...     0       0   \n",
              "\n",
              "       Tommy Hilfiger  Hollister  Forever 21  Colavita  Microsoft  Jiffy mix  \\\n",
              "0                   0          0           0         0          0          0   \n",
              "1                   0          0           0         0          0          0   \n",
              "2                   0          0           0         0          1          0   \n",
              "3                   0          0           0         0          0          0   \n",
              "4                   0          0           0         0          0          1   \n",
              "...               ...        ...         ...       ...        ...        ...   \n",
              "29995               0          0           0         0          0          0   \n",
              "29996               0          0           0         0          0          0   \n",
              "29997               0          0           0         0          0          0   \n",
              "29998               0          0           0         0          0          0   \n",
              "29999               0          0           0         0          0          0   \n",
              "\n",
              "       Kraft  cluster  \n",
              "0          0        0  \n",
              "1          0        1  \n",
              "2          0        0  \n",
              "3          0        0  \n",
              "4          1        3  \n",
              "...      ...      ...  \n",
              "29995      0        0  \n",
              "29996      0        0  \n",
              "29997      0        0  \n",
              "29998      0        0  \n",
              "29999      0        0  \n",
              "\n",
              "[30000 rows x 38 columns]"
            ],
            "text/html": [
              "\n",
              "  <div id=\"df-b52c3a2a-572d-4857-9e61-60468644aa20\">\n",
              "    <div class=\"colab-df-container\">\n",
              "      <div>\n",
              "<style scoped>\n",
              "    .dataframe tbody tr th:only-of-type {\n",
              "        vertical-align: middle;\n",
              "    }\n",
              "\n",
              "    .dataframe tbody tr th {\n",
              "        vertical-align: top;\n",
              "    }\n",
              "\n",
              "    .dataframe thead th {\n",
              "        text-align: right;\n",
              "    }\n",
              "</style>\n",
              "<table border=\"1\" class=\"dataframe\">\n",
              "  <thead>\n",
              "    <tr style=\"text-align: right;\">\n",
              "      <th></th>\n",
              "      <th>Gender</th>\n",
              "      <th>Orders</th>\n",
              "      <th>Jordan</th>\n",
              "      <th>Gatorade</th>\n",
              "      <th>Samsung</th>\n",
              "      <th>Asus</th>\n",
              "      <th>Udis</th>\n",
              "      <th>Mondelez International</th>\n",
              "      <th>Wrangler</th>\n",
              "      <th>Vans</th>\n",
              "      <th>...</th>\n",
              "      <th>Dior</th>\n",
              "      <th>Scabal</th>\n",
              "      <th>Tommy Hilfiger</th>\n",
              "      <th>Hollister</th>\n",
              "      <th>Forever 21</th>\n",
              "      <th>Colavita</th>\n",
              "      <th>Microsoft</th>\n",
              "      <th>Jiffy mix</th>\n",
              "      <th>Kraft</th>\n",
              "      <th>cluster</th>\n",
              "    </tr>\n",
              "  </thead>\n",
              "  <tbody>\n",
              "    <tr>\n",
              "      <th>0</th>\n",
              "      <td>1</td>\n",
              "      <td>7</td>\n",
              "      <td>0</td>\n",
              "      <td>0</td>\n",
              "      <td>0</td>\n",
              "      <td>0</td>\n",
              "      <td>0</td>\n",
              "      <td>0</td>\n",
              "      <td>0</td>\n",
              "      <td>2</td>\n",
              "      <td>...</td>\n",
              "      <td>0</td>\n",
              "      <td>0</td>\n",
              "      <td>0</td>\n",
              "      <td>0</td>\n",
              "      <td>0</td>\n",
              "      <td>0</td>\n",
              "      <td>0</td>\n",
              "      <td>0</td>\n",
              "      <td>0</td>\n",
              "      <td>0</td>\n",
              "    </tr>\n",
              "    <tr>\n",
              "      <th>1</th>\n",
              "      <td>2</td>\n",
              "      <td>0</td>\n",
              "      <td>0</td>\n",
              "      <td>1</td>\n",
              "      <td>0</td>\n",
              "      <td>0</td>\n",
              "      <td>0</td>\n",
              "      <td>0</td>\n",
              "      <td>0</td>\n",
              "      <td>0</td>\n",
              "      <td>...</td>\n",
              "      <td>1</td>\n",
              "      <td>0</td>\n",
              "      <td>0</td>\n",
              "      <td>0</td>\n",
              "      <td>0</td>\n",
              "      <td>0</td>\n",
              "      <td>0</td>\n",
              "      <td>0</td>\n",
              "      <td>0</td>\n",
              "      <td>1</td>\n",
              "    </tr>\n",
              "    <tr>\n",
              "      <th>2</th>\n",
              "      <td>1</td>\n",
              "      <td>7</td>\n",
              "      <td>0</td>\n",
              "      <td>1</td>\n",
              "      <td>0</td>\n",
              "      <td>0</td>\n",
              "      <td>0</td>\n",
              "      <td>0</td>\n",
              "      <td>0</td>\n",
              "      <td>0</td>\n",
              "      <td>...</td>\n",
              "      <td>0</td>\n",
              "      <td>0</td>\n",
              "      <td>0</td>\n",
              "      <td>0</td>\n",
              "      <td>0</td>\n",
              "      <td>0</td>\n",
              "      <td>1</td>\n",
              "      <td>0</td>\n",
              "      <td>0</td>\n",
              "      <td>0</td>\n",
              "    </tr>\n",
              "    <tr>\n",
              "      <th>3</th>\n",
              "      <td>2</td>\n",
              "      <td>0</td>\n",
              "      <td>0</td>\n",
              "      <td>0</td>\n",
              "      <td>0</td>\n",
              "      <td>0</td>\n",
              "      <td>0</td>\n",
              "      <td>0</td>\n",
              "      <td>0</td>\n",
              "      <td>0</td>\n",
              "      <td>...</td>\n",
              "      <td>0</td>\n",
              "      <td>0</td>\n",
              "      <td>0</td>\n",
              "      <td>0</td>\n",
              "      <td>0</td>\n",
              "      <td>0</td>\n",
              "      <td>0</td>\n",
              "      <td>0</td>\n",
              "      <td>0</td>\n",
              "      <td>0</td>\n",
              "    </tr>\n",
              "    <tr>\n",
              "      <th>4</th>\n",
              "      <td>3</td>\n",
              "      <td>10</td>\n",
              "      <td>0</td>\n",
              "      <td>0</td>\n",
              "      <td>0</td>\n",
              "      <td>0</td>\n",
              "      <td>0</td>\n",
              "      <td>0</td>\n",
              "      <td>0</td>\n",
              "      <td>0</td>\n",
              "      <td>...</td>\n",
              "      <td>0</td>\n",
              "      <td>2</td>\n",
              "      <td>0</td>\n",
              "      <td>0</td>\n",
              "      <td>0</td>\n",
              "      <td>0</td>\n",
              "      <td>0</td>\n",
              "      <td>1</td>\n",
              "      <td>1</td>\n",
              "      <td>3</td>\n",
              "    </tr>\n",
              "    <tr>\n",
              "      <th>...</th>\n",
              "      <td>...</td>\n",
              "      <td>...</td>\n",
              "      <td>...</td>\n",
              "      <td>...</td>\n",
              "      <td>...</td>\n",
              "      <td>...</td>\n",
              "      <td>...</td>\n",
              "      <td>...</td>\n",
              "      <td>...</td>\n",
              "      <td>...</td>\n",
              "      <td>...</td>\n",
              "      <td>...</td>\n",
              "      <td>...</td>\n",
              "      <td>...</td>\n",
              "      <td>...</td>\n",
              "      <td>...</td>\n",
              "      <td>...</td>\n",
              "      <td>...</td>\n",
              "      <td>...</td>\n",
              "      <td>...</td>\n",
              "      <td>...</td>\n",
              "    </tr>\n",
              "    <tr>\n",
              "      <th>29995</th>\n",
              "      <td>1</td>\n",
              "      <td>0</td>\n",
              "      <td>0</td>\n",
              "      <td>0</td>\n",
              "      <td>0</td>\n",
              "      <td>0</td>\n",
              "      <td>0</td>\n",
              "      <td>0</td>\n",
              "      <td>0</td>\n",
              "      <td>0</td>\n",
              "      <td>...</td>\n",
              "      <td>0</td>\n",
              "      <td>0</td>\n",
              "      <td>0</td>\n",
              "      <td>0</td>\n",
              "      <td>0</td>\n",
              "      <td>0</td>\n",
              "      <td>0</td>\n",
              "      <td>0</td>\n",
              "      <td>0</td>\n",
              "      <td>0</td>\n",
              "    </tr>\n",
              "    <tr>\n",
              "      <th>29996</th>\n",
              "      <td>1</td>\n",
              "      <td>1</td>\n",
              "      <td>0</td>\n",
              "      <td>1</td>\n",
              "      <td>0</td>\n",
              "      <td>0</td>\n",
              "      <td>0</td>\n",
              "      <td>0</td>\n",
              "      <td>0</td>\n",
              "      <td>0</td>\n",
              "      <td>...</td>\n",
              "      <td>0</td>\n",
              "      <td>0</td>\n",
              "      <td>0</td>\n",
              "      <td>0</td>\n",
              "      <td>0</td>\n",
              "      <td>0</td>\n",
              "      <td>0</td>\n",
              "      <td>0</td>\n",
              "      <td>0</td>\n",
              "      <td>0</td>\n",
              "    </tr>\n",
              "    <tr>\n",
              "      <th>29997</th>\n",
              "      <td>1</td>\n",
              "      <td>0</td>\n",
              "      <td>0</td>\n",
              "      <td>1</td>\n",
              "      <td>0</td>\n",
              "      <td>0</td>\n",
              "      <td>0</td>\n",
              "      <td>0</td>\n",
              "      <td>0</td>\n",
              "      <td>1</td>\n",
              "      <td>...</td>\n",
              "      <td>0</td>\n",
              "      <td>0</td>\n",
              "      <td>0</td>\n",
              "      <td>0</td>\n",
              "      <td>0</td>\n",
              "      <td>0</td>\n",
              "      <td>0</td>\n",
              "      <td>0</td>\n",
              "      <td>0</td>\n",
              "      <td>0</td>\n",
              "    </tr>\n",
              "    <tr>\n",
              "      <th>29998</th>\n",
              "      <td>1</td>\n",
              "      <td>0</td>\n",
              "      <td>0</td>\n",
              "      <td>0</td>\n",
              "      <td>0</td>\n",
              "      <td>0</td>\n",
              "      <td>0</td>\n",
              "      <td>0</td>\n",
              "      <td>0</td>\n",
              "      <td>0</td>\n",
              "      <td>...</td>\n",
              "      <td>0</td>\n",
              "      <td>0</td>\n",
              "      <td>0</td>\n",
              "      <td>0</td>\n",
              "      <td>0</td>\n",
              "      <td>0</td>\n",
              "      <td>0</td>\n",
              "      <td>0</td>\n",
              "      <td>0</td>\n",
              "      <td>0</td>\n",
              "    </tr>\n",
              "    <tr>\n",
              "      <th>29999</th>\n",
              "      <td>2</td>\n",
              "      <td>3</td>\n",
              "      <td>2</td>\n",
              "      <td>0</td>\n",
              "      <td>0</td>\n",
              "      <td>1</td>\n",
              "      <td>0</td>\n",
              "      <td>0</td>\n",
              "      <td>0</td>\n",
              "      <td>0</td>\n",
              "      <td>...</td>\n",
              "      <td>0</td>\n",
              "      <td>0</td>\n",
              "      <td>0</td>\n",
              "      <td>0</td>\n",
              "      <td>0</td>\n",
              "      <td>0</td>\n",
              "      <td>0</td>\n",
              "      <td>0</td>\n",
              "      <td>0</td>\n",
              "      <td>0</td>\n",
              "    </tr>\n",
              "  </tbody>\n",
              "</table>\n",
              "<p>30000 rows × 38 columns</p>\n",
              "</div>\n",
              "      <button class=\"colab-df-convert\" onclick=\"convertToInteractive('df-b52c3a2a-572d-4857-9e61-60468644aa20')\"\n",
              "              title=\"Convert this dataframe to an interactive table.\"\n",
              "              style=\"display:none;\">\n",
              "        \n",
              "  <svg xmlns=\"http://www.w3.org/2000/svg\" height=\"24px\"viewBox=\"0 0 24 24\"\n",
              "       width=\"24px\">\n",
              "    <path d=\"M0 0h24v24H0V0z\" fill=\"none\"/>\n",
              "    <path d=\"M18.56 5.44l.94 2.06.94-2.06 2.06-.94-2.06-.94-.94-2.06-.94 2.06-2.06.94zm-11 1L8.5 8.5l.94-2.06 2.06-.94-2.06-.94L8.5 2.5l-.94 2.06-2.06.94zm10 10l.94 2.06.94-2.06 2.06-.94-2.06-.94-.94-2.06-.94 2.06-2.06.94z\"/><path d=\"M17.41 7.96l-1.37-1.37c-.4-.4-.92-.59-1.43-.59-.52 0-1.04.2-1.43.59L10.3 9.45l-7.72 7.72c-.78.78-.78 2.05 0 2.83L4 21.41c.39.39.9.59 1.41.59.51 0 1.02-.2 1.41-.59l7.78-7.78 2.81-2.81c.8-.78.8-2.07 0-2.86zM5.41 20L4 18.59l7.72-7.72 1.47 1.35L5.41 20z\"/>\n",
              "  </svg>\n",
              "      </button>\n",
              "      \n",
              "  <style>\n",
              "    .colab-df-container {\n",
              "      display:flex;\n",
              "      flex-wrap:wrap;\n",
              "      gap: 12px;\n",
              "    }\n",
              "\n",
              "    .colab-df-convert {\n",
              "      background-color: #E8F0FE;\n",
              "      border: none;\n",
              "      border-radius: 50%;\n",
              "      cursor: pointer;\n",
              "      display: none;\n",
              "      fill: #1967D2;\n",
              "      height: 32px;\n",
              "      padding: 0 0 0 0;\n",
              "      width: 32px;\n",
              "    }\n",
              "\n",
              "    .colab-df-convert:hover {\n",
              "      background-color: #E2EBFA;\n",
              "      box-shadow: 0px 1px 2px rgba(60, 64, 67, 0.3), 0px 1px 3px 1px rgba(60, 64, 67, 0.15);\n",
              "      fill: #174EA6;\n",
              "    }\n",
              "\n",
              "    [theme=dark] .colab-df-convert {\n",
              "      background-color: #3B4455;\n",
              "      fill: #D2E3FC;\n",
              "    }\n",
              "\n",
              "    [theme=dark] .colab-df-convert:hover {\n",
              "      background-color: #434B5C;\n",
              "      box-shadow: 0px 1px 3px 1px rgba(0, 0, 0, 0.15);\n",
              "      filter: drop-shadow(0px 1px 2px rgba(0, 0, 0, 0.3));\n",
              "      fill: #FFFFFF;\n",
              "    }\n",
              "  </style>\n",
              "\n",
              "      <script>\n",
              "        const buttonEl =\n",
              "          document.querySelector('#df-b52c3a2a-572d-4857-9e61-60468644aa20 button.colab-df-convert');\n",
              "        buttonEl.style.display =\n",
              "          google.colab.kernel.accessAllowed ? 'block' : 'none';\n",
              "\n",
              "        async function convertToInteractive(key) {\n",
              "          const element = document.querySelector('#df-b52c3a2a-572d-4857-9e61-60468644aa20');\n",
              "          const dataTable =\n",
              "            await google.colab.kernel.invokeFunction('convertToInteractive',\n",
              "                                                     [key], {});\n",
              "          if (!dataTable) return;\n",
              "\n",
              "          const docLinkHtml = 'Like what you see? Visit the ' +\n",
              "            '<a target=\"_blank\" href=https://colab.research.google.com/notebooks/data_table.ipynb>data table notebook</a>'\n",
              "            + ' to learn more about interactive tables.';\n",
              "          element.innerHTML = '';\n",
              "          dataTable['output_type'] = 'display_data';\n",
              "          await google.colab.output.renderOutput(dataTable, element);\n",
              "          const docLink = document.createElement('div');\n",
              "          docLink.innerHTML = docLinkHtml;\n",
              "          element.appendChild(docLink);\n",
              "        }\n",
              "      </script>\n",
              "    </div>\n",
              "  </div>\n",
              "  "
            ]
          },
          "metadata": {},
          "execution_count": 187
        }
      ]
    },
    {
      "cell_type": "code",
      "source": [
        "sns.countplot(data=data_output,x='cluster')\n",
        "plt.title('size of cluster')\n",
        "plt.text(x=-.18,y=2000,s=np.unique(km.labels_,return_counts=True)[1][0])\n",
        "plt.text(x=.9,y=2000,s=np.unique(km.labels_,return_counts=True)[1][1])\n",
        "plt.text(x=1.85,y=2000,s=np.unique(km.labels_,return_counts=True)[1][2])\n",
        "plt.text(x=2.85,y=2000,s=np.unique(km.labels_,return_counts=True)[1][3])"
      ],
      "metadata": {
        "colab": {
          "base_uri": "https://localhost:8080/",
          "height": 318
        },
        "id": "yoj5NHyETaGk",
        "outputId": "62e8f668-fb58-40e3-9890-954cc59e6ae8"
      },
      "execution_count": 188,
      "outputs": [
        {
          "output_type": "execute_result",
          "data": {
            "text/plain": [
              "Text(2.85, 2000, '1187')"
            ]
          },
          "metadata": {},
          "execution_count": 188
        },
        {
          "output_type": "display_data",
          "data": {
            "text/plain": [
              "<Figure size 432x288 with 1 Axes>"
            ],
            "image/png": "[encoded data removed]"
          },
          "metadata": {}
        }
      ]
    },
    {
      "cell_type": "code",
      "source": [],
      "metadata": {
        "id": "vqbQAHvqadz2"
      },
      "execution_count": null,
      "outputs": []
    },
    {
      "cell_type": "code",
      "source": [],
      "metadata": {
        "id": "RjNGe13AadxM"
      },
      "execution_count": null,
      "outputs": []
    },
    {
      "cell_type": "code",
      "source": [],
      "metadata": {
        "id": "V0ZstOK6aduw"
      },
      "execution_count": null,
      "outputs": []
    }
  ]
}